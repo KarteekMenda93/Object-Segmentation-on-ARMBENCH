{
 "cells": [
  {
   "cell_type": "markdown",
   "metadata": {},
   "source": [
    "# Download the ARMBench data for Object Segmentation and Detection"
   ]
  },
  {
   "cell_type": "code",
   "execution_count": 1,
   "metadata": {
    "ExecuteTime": {
     "end_time": "2024-03-16T19:11:49.596520Z",
     "start_time": "2024-03-16T18:55:19.669870Z"
    },
    "scrolled": true
   },
   "outputs": [],
   "source": [
    "import urllib.request\n",
    "import tarfile\n",
    "thetarfile = \"https://armbench-dataset.s3.amazonaws.com/segmentation/armbench-segmentation-0.1.tar.gz\"\n",
    "ftpstream = urllib.request.urlopen(thetarfile)\n",
    "thetarfile = tarfile.open(fileobj=ftpstream, mode=\"r|gz\")\n",
    "thetarfile.extractall()"
   ]
  },
  {
   "cell_type": "markdown",
   "metadata": {},
   "source": [
    "# Edit your train and test json as per the number of images you want for testing cases"
   ]
  },
  {
   "cell_type": "code",
   "execution_count": 2,
   "metadata": {
    "ExecuteTime": {
     "end_time": "2024-03-16T19:37:19.887400Z",
     "start_time": "2024-03-16T19:37:10.572096Z"
    }
   },
   "outputs": [
    {
     "name": "stdout",
     "output_type": "stream",
     "text": [
      "Extraction complete. Output saved to: mix_tote_train_100.json\n"
     ]
    }
   ],
   "source": [
    "import json\n",
    "input_json_file = r'C:\\Users\\karteek\\mix_tote_train.json'\n",
    "output_json_file = 'mix_tote_train_100.json'\n",
    "def extract_first_100_images(input_json_file):\n",
    "    with open(input_json_file, 'r') as f:\n",
    "        data = json.load(f)\n",
    "    extracted_data = {\n",
    "        'images': data['images'][:100],\n",
    "        'annotations': [annotation for annotation in data['annotations'] if annotation['image_id'] in [image['id'] for image in data['images'][:100]]]\n",
    "    }\n",
    "    return extracted_data\n",
    "extracted_data = extract_first_100_images(input_json_file)\n",
    "with open(output_json_file, 'w') as f:\n",
    "    json.dump(extracted_data, f, indent=4)\n",
    "print(\"Extraction complete. Output saved to:\", output_json_file)"
   ]
  },
  {
   "cell_type": "code",
   "execution_count": 3,
   "metadata": {
    "ExecuteTime": {
     "end_time": "2024-03-16T19:37:30.981770Z",
     "start_time": "2024-03-16T19:37:29.496287Z"
    }
   },
   "outputs": [
    {
     "name": "stdout",
     "output_type": "stream",
     "text": [
      "Extraction complete. Output saved to: mix_tote_test_30.json\n"
     ]
    }
   ],
   "source": [
    "input_json_file = r'C:\\Users\\karteek\\mix_tote_test.json'\n",
    "output_json_file = 'mix_tote_test_30.json'\n",
    "def extract_first_100_images(input_json_file):\n",
    "    with open(input_json_file, 'r') as f:\n",
    "        data = json.load(f)\n",
    "    extracted_data = {\n",
    "        'images': data['images'][:30],\n",
    "        'annotations': [annotation for annotation in data['annotations'] if annotation['image_id'] in [image['id'] for image in data['images'][:30]]]\n",
    "    }\n",
    "    return extracted_data\n",
    "extracted_data = extract_first_100_images(input_json_file)\n",
    "with open(output_json_file, 'w') as f:\n",
    "    json.dump(extracted_data, f, indent=4)\n",
    "print(\"Extraction complete. Output saved to:\", output_json_file)"
   ]
  },
  {
   "cell_type": "code",
   "execution_count": 5,
   "metadata": {
    "ExecuteTime": {
     "end_time": "2024-03-16T19:38:04.189302Z",
     "start_time": "2024-03-16T19:38:04.123249Z"
    }
   },
   "outputs": [
    {
     "name": "stdout",
     "output_type": "stream",
     "text": [
      "Extraction complete. Output saved to: same_obj_test_30.json\n"
     ]
    }
   ],
   "source": [
    "import json\n",
    "input_json_file = r'C:\\Users\\karteek\\same_obj_test.json'\n",
    "output_json_file = 'same_obj_test_30.json'\n",
    "def extract_first_1000_images(input_json_file):\n",
    "    with open(input_json_file, 'r') as f:\n",
    "        data = json.load(f)\n",
    "    extracted_data = {\n",
    "        'images': data['images'][:30],\n",
    "        'annotations': [annotation for annotation in data['annotations'] if annotation['image_id'] in [image['id'] for image in data['images'][:30]]]\n",
    "    }\n",
    "    return extracted_data\n",
    "extracted_data = extract_first_1000_images(input_json_file)\n",
    "with open(output_json_file, 'w') as f:\n",
    "    json.dump(extracted_data, f, indent=4)\n",
    "print(\"Extraction complete. Output saved to:\", output_json_file)"
   ]
  },
  {
   "cell_type": "code",
   "execution_count": 6,
   "metadata": {
    "ExecuteTime": {
     "end_time": "2024-03-16T19:38:08.772278Z",
     "start_time": "2024-03-16T19:38:08.608177Z"
    }
   },
   "outputs": [
    {
     "name": "stdout",
     "output_type": "stream",
     "text": [
      "Extraction complete. Output saved to: zoomed_out_test_30.json\n"
     ]
    }
   ],
   "source": [
    "input_json_file = r'C:\\Users\\karteek\\zoomed_out_test.json'\n",
    "output_json_file = 'zoomed_out_test_30.json'\n",
    "def extract_first_1000_images(input_json_file):\n",
    "    with open(input_json_file, 'r') as f:\n",
    "        data = json.load(f)\n",
    "    extracted_data = {\n",
    "        'images': data['images'][:30],\n",
    "        'annotations': [annotation for annotation in data['annotations'] if annotation['image_id'] in [image['id'] for image in data['images'][:30]]]\n",
    "    }\n",
    "    return extracted_data\n",
    "extracted_data = extract_first_1000_images(input_json_file)\n",
    "with open(output_json_file, 'w') as f:\n",
    "    json.dump(extracted_data, f, indent=4)\n",
    "print(\"Extraction complete. Output saved to:\", output_json_file)"
   ]
  },
  {
   "cell_type": "markdown",
   "metadata": {},
   "source": [
    "# From these jsons extract the image names"
   ]
  },
  {
   "cell_type": "code",
   "execution_count": 7,
   "metadata": {
    "ExecuteTime": {
     "end_time": "2024-03-16T19:43:18.350817Z",
     "start_time": "2024-03-16T19:43:15.749889Z"
    }
   },
   "outputs": [],
   "source": [
    "import json\n",
    "import pandas as pd\n",
    "with open('mix_tote_train_100.json', 'r') as f:\n",
    "    data = json.load(f)\n",
    "file_names = [image['file_name'] for image in data['images']]\n",
    "df = pd.DataFrame({'File Name': file_names})\n",
    "df.to_excel('mix_tote_train_100.xlsx', index=False)"
   ]
  },
  {
   "cell_type": "code",
   "execution_count": 8,
   "metadata": {
    "ExecuteTime": {
     "end_time": "2024-03-16T19:43:19.288983Z",
     "start_time": "2024-03-16T19:43:19.215378Z"
    }
   },
   "outputs": [],
   "source": [
    "with open('mix_tote_test_30.json', 'r') as f:\n",
    "    data = json.load(f)\n",
    "file_names = [image['file_name'] for image in data['images']]\n",
    "df = pd.DataFrame({'File Name': file_names})\n",
    "df.to_excel('mix_tote_test_30.xlsx', index=False)"
   ]
  },
  {
   "cell_type": "code",
   "execution_count": 9,
   "metadata": {
    "ExecuteTime": {
     "end_time": "2024-03-16T19:43:20.599995Z",
     "start_time": "2024-03-16T19:43:20.554607Z"
    }
   },
   "outputs": [],
   "source": [
    "with open('same_obj_test_30.json', 'r') as f:\n",
    "    data = json.load(f)\n",
    "file_names = [image['file_name'] for image in data['images']]\n",
    "df = pd.DataFrame({'File Name': file_names})\n",
    "df.to_excel('same_obj_test_30.xlsx', index=False)"
   ]
  },
  {
   "cell_type": "code",
   "execution_count": 10,
   "metadata": {
    "ExecuteTime": {
     "end_time": "2024-03-16T19:43:21.674416Z",
     "start_time": "2024-03-16T19:43:21.632053Z"
    }
   },
   "outputs": [],
   "source": [
    "with open('zoomed_out_test_30.json', 'r') as f:\n",
    "    data = json.load(f)\n",
    "file_names = [image['file_name'] for image in data['images']]\n",
    "df = pd.DataFrame({'File Name': file_names})\n",
    "df.to_excel('zoomed_out_test_30.xlsx', index=False)"
   ]
  },
  {
   "cell_type": "markdown",
   "metadata": {},
   "source": [
    "# Copying all those images with the names in the saved excel sheets\n"
   ]
  },
  {
   "cell_type": "code",
   "execution_count": 11,
   "metadata": {
    "ExecuteTime": {
     "end_time": "2024-03-16T19:58:03.606972Z",
     "start_time": "2024-03-16T19:58:02.404714Z"
    },
    "collapsed": true
   },
   "outputs": [
    {
     "name": "stdout",
     "output_type": "stream",
     "text": [
      "Image '5R5WBCH7ZH.jpg' copied to 'D:\\Perception_Project\\Train_100_images\\matched_images_mix_tote_train_100'.\n",
      "Image 'NY8FF60G71.jpg' copied to 'D:\\Perception_Project\\Train_100_images\\matched_images_mix_tote_train_100'.\n",
      "Image 'ZY6H2E2SCT.jpg' copied to 'D:\\Perception_Project\\Train_100_images\\matched_images_mix_tote_train_100'.\n",
      "Image 'RS9P1OGARW.jpg' copied to 'D:\\Perception_Project\\Train_100_images\\matched_images_mix_tote_train_100'.\n",
      "Image '9K5VY5J9R1.jpg' copied to 'D:\\Perception_Project\\Train_100_images\\matched_images_mix_tote_train_100'.\n",
      "Image 'SPI9PHLS3G.jpg' copied to 'D:\\Perception_Project\\Train_100_images\\matched_images_mix_tote_train_100'.\n",
      "Image '4BJSMSM0Q9.jpg' copied to 'D:\\Perception_Project\\Train_100_images\\matched_images_mix_tote_train_100'.\n",
      "Image '7AFC0VLBFW.jpg' copied to 'D:\\Perception_Project\\Train_100_images\\matched_images_mix_tote_train_100'.\n",
      "Image '6RA0CT75K4.jpg' copied to 'D:\\Perception_Project\\Train_100_images\\matched_images_mix_tote_train_100'.\n",
      "Image '42UBL1UYR2.jpg' copied to 'D:\\Perception_Project\\Train_100_images\\matched_images_mix_tote_train_100'.\n",
      "Image 'VPGI5O2KXO.jpg' copied to 'D:\\Perception_Project\\Train_100_images\\matched_images_mix_tote_train_100'.\n",
      "Image '8TRB9YL83C.jpg' copied to 'D:\\Perception_Project\\Train_100_images\\matched_images_mix_tote_train_100'.\n",
      "Image '8MS58ZNCKK.jpg' copied to 'D:\\Perception_Project\\Train_100_images\\matched_images_mix_tote_train_100'.\n",
      "Image '4LTY7Z2RYV.jpg' copied to 'D:\\Perception_Project\\Train_100_images\\matched_images_mix_tote_train_100'.\n",
      "Image 'JHPDJFVBD1.jpg' copied to 'D:\\Perception_Project\\Train_100_images\\matched_images_mix_tote_train_100'.\n",
      "Image 'HZ9KQR1WSH.jpg' copied to 'D:\\Perception_Project\\Train_100_images\\matched_images_mix_tote_train_100'.\n",
      "Image 'VAO8XI1OSL.jpg' copied to 'D:\\Perception_Project\\Train_100_images\\matched_images_mix_tote_train_100'.\n",
      "Image 'YG1U9BKNFY.jpg' copied to 'D:\\Perception_Project\\Train_100_images\\matched_images_mix_tote_train_100'.\n",
      "Image '5SDRU7H1XW.jpg' copied to 'D:\\Perception_Project\\Train_100_images\\matched_images_mix_tote_train_100'.\n",
      "Image '5WO02V8NA5.jpg' copied to 'D:\\Perception_Project\\Train_100_images\\matched_images_mix_tote_train_100'.\n",
      "Image 'VRI57WV4WE.jpg' copied to 'D:\\Perception_Project\\Train_100_images\\matched_images_mix_tote_train_100'.\n",
      "Image '5DU9YUGOJD.jpg' copied to 'D:\\Perception_Project\\Train_100_images\\matched_images_mix_tote_train_100'.\n",
      "Image 'SVJEOFEDV6.jpg' copied to 'D:\\Perception_Project\\Train_100_images\\matched_images_mix_tote_train_100'.\n",
      "Image 'RPWH9KTNDY.jpg' copied to 'D:\\Perception_Project\\Train_100_images\\matched_images_mix_tote_train_100'.\n",
      "Image 'FTT74Q6V5P.jpg' copied to 'D:\\Perception_Project\\Train_100_images\\matched_images_mix_tote_train_100'.\n",
      "Image 'YOQ9KI2TRV.jpg' copied to 'D:\\Perception_Project\\Train_100_images\\matched_images_mix_tote_train_100'.\n",
      "Image 'SJZESIBKYQ.jpg' copied to 'D:\\Perception_Project\\Train_100_images\\matched_images_mix_tote_train_100'.\n",
      "Image '47FDF8QF0E.jpg' copied to 'D:\\Perception_Project\\Train_100_images\\matched_images_mix_tote_train_100'.\n",
      "Image '859H4JIFO6.jpg' copied to 'D:\\Perception_Project\\Train_100_images\\matched_images_mix_tote_train_100'.\n",
      "Image 'TNSUA9CBUB.jpg' copied to 'D:\\Perception_Project\\Train_100_images\\matched_images_mix_tote_train_100'.\n",
      "Image 'UAFCX6VFR5.jpg' copied to 'D:\\Perception_Project\\Train_100_images\\matched_images_mix_tote_train_100'.\n",
      "Image 'OUBSK9XUBC.jpg' copied to 'D:\\Perception_Project\\Train_100_images\\matched_images_mix_tote_train_100'.\n",
      "Image '73SQ0SAEN0.jpg' copied to 'D:\\Perception_Project\\Train_100_images\\matched_images_mix_tote_train_100'.\n",
      "Image 'B7WFPOWD66.jpg' copied to 'D:\\Perception_Project\\Train_100_images\\matched_images_mix_tote_train_100'.\n",
      "Image 'AH2MBY9KRJ.jpg' copied to 'D:\\Perception_Project\\Train_100_images\\matched_images_mix_tote_train_100'.\n",
      "Image '6MAXNG7BNO.jpg' copied to 'D:\\Perception_Project\\Train_100_images\\matched_images_mix_tote_train_100'.\n",
      "Image '2043D8YZ3T.jpg' copied to 'D:\\Perception_Project\\Train_100_images\\matched_images_mix_tote_train_100'.\n",
      "Image 'FAXCFLVD44.jpg' copied to 'D:\\Perception_Project\\Train_100_images\\matched_images_mix_tote_train_100'.\n",
      "Image '1Q8OI5C2WV.jpg' copied to 'D:\\Perception_Project\\Train_100_images\\matched_images_mix_tote_train_100'.\n",
      "Image 'XS0Q1WDJ9K.jpg' copied to 'D:\\Perception_Project\\Train_100_images\\matched_images_mix_tote_train_100'.\n",
      "Image 'PL18LGZ7WZ.jpg' copied to 'D:\\Perception_Project\\Train_100_images\\matched_images_mix_tote_train_100'.\n",
      "Image '38YAQCCJ5J.jpg' copied to 'D:\\Perception_Project\\Train_100_images\\matched_images_mix_tote_train_100'.\n",
      "Image 'WEA59TVTJF.jpg' copied to 'D:\\Perception_Project\\Train_100_images\\matched_images_mix_tote_train_100'.\n",
      "Image 'CTPLYKFP6A.jpg' copied to 'D:\\Perception_Project\\Train_100_images\\matched_images_mix_tote_train_100'.\n",
      "Image '5USEPC8L41.jpg' copied to 'D:\\Perception_Project\\Train_100_images\\matched_images_mix_tote_train_100'.\n",
      "Image '6QSXSEV3SD.jpg' copied to 'D:\\Perception_Project\\Train_100_images\\matched_images_mix_tote_train_100'.\n",
      "Image 'AI7EBICX6P.jpg' copied to 'D:\\Perception_Project\\Train_100_images\\matched_images_mix_tote_train_100'.\n",
      "Image '96ITRO4ESJ.jpg' copied to 'D:\\Perception_Project\\Train_100_images\\matched_images_mix_tote_train_100'.\n",
      "Image 'R19LUGZKIC.jpg' copied to 'D:\\Perception_Project\\Train_100_images\\matched_images_mix_tote_train_100'.\n",
      "Image '2SUF9W2LL2.jpg' copied to 'D:\\Perception_Project\\Train_100_images\\matched_images_mix_tote_train_100'.\n",
      "Image 'LIM35SW81C.jpg' copied to 'D:\\Perception_Project\\Train_100_images\\matched_images_mix_tote_train_100'.\n",
      "Image 'I4A8UK4F04.jpg' copied to 'D:\\Perception_Project\\Train_100_images\\matched_images_mix_tote_train_100'.\n",
      "Image '8MEK95H6RU.jpg' copied to 'D:\\Perception_Project\\Train_100_images\\matched_images_mix_tote_train_100'.\n",
      "Image 'Y92CFFQG4F.jpg' copied to 'D:\\Perception_Project\\Train_100_images\\matched_images_mix_tote_train_100'.\n",
      "Image 'V8UWMGTF5P.jpg' copied to 'D:\\Perception_Project\\Train_100_images\\matched_images_mix_tote_train_100'.\n",
      "Image 'LJZ0WZ80VV.jpg' copied to 'D:\\Perception_Project\\Train_100_images\\matched_images_mix_tote_train_100'.\n",
      "Image 'XZ3QZMF67R.jpg' copied to 'D:\\Perception_Project\\Train_100_images\\matched_images_mix_tote_train_100'.\n",
      "Image 'U56U691PIY.jpg' copied to 'D:\\Perception_Project\\Train_100_images\\matched_images_mix_tote_train_100'.\n",
      "Image 'O6VHK4OEL6.jpg' copied to 'D:\\Perception_Project\\Train_100_images\\matched_images_mix_tote_train_100'.\n",
      "Image '9JJQ3LBN9B.jpg' copied to 'D:\\Perception_Project\\Train_100_images\\matched_images_mix_tote_train_100'.\n",
      "Image 'L3DWIV99U8.jpg' copied to 'D:\\Perception_Project\\Train_100_images\\matched_images_mix_tote_train_100'.\n",
      "Image 'DTJQP8FQUQ.jpg' copied to 'D:\\Perception_Project\\Train_100_images\\matched_images_mix_tote_train_100'.\n",
      "Image 'EJY25SC66K.jpg' copied to 'D:\\Perception_Project\\Train_100_images\\matched_images_mix_tote_train_100'.\n",
      "Image 'NJQY8CLCQY.jpg' copied to 'D:\\Perception_Project\\Train_100_images\\matched_images_mix_tote_train_100'.\n",
      "Image 'RDPX01HH00.jpg' copied to 'D:\\Perception_Project\\Train_100_images\\matched_images_mix_tote_train_100'.\n",
      "Image 'A9YE58PIFK.jpg' copied to 'D:\\Perception_Project\\Train_100_images\\matched_images_mix_tote_train_100'.\n",
      "Image '5PDZ3XEWH4.jpg' copied to 'D:\\Perception_Project\\Train_100_images\\matched_images_mix_tote_train_100'.\n",
      "Image 'NJHKBMOOH2.jpg' copied to 'D:\\Perception_Project\\Train_100_images\\matched_images_mix_tote_train_100'.\n",
      "Image 'NRI7I6ALUV.jpg' copied to 'D:\\Perception_Project\\Train_100_images\\matched_images_mix_tote_train_100'.\n",
      "Image 'A4QNHKDYOC.jpg' copied to 'D:\\Perception_Project\\Train_100_images\\matched_images_mix_tote_train_100'.\n",
      "Image 'L84E9OQXH9.jpg' copied to 'D:\\Perception_Project\\Train_100_images\\matched_images_mix_tote_train_100'.\n",
      "Image '7YC0EBWUKE.jpg' copied to 'D:\\Perception_Project\\Train_100_images\\matched_images_mix_tote_train_100'.\n",
      "Image 'MF6FH4DFA9.jpg' copied to 'D:\\Perception_Project\\Train_100_images\\matched_images_mix_tote_train_100'.\n",
      "Image 'GEH2LRYXDJ.jpg' copied to 'D:\\Perception_Project\\Train_100_images\\matched_images_mix_tote_train_100'.\n",
      "Image 'J8IK0TL0OK.jpg' copied to 'D:\\Perception_Project\\Train_100_images\\matched_images_mix_tote_train_100'.\n",
      "Image 'ZF2ZBDT7KR.jpg' copied to 'D:\\Perception_Project\\Train_100_images\\matched_images_mix_tote_train_100'.\n",
      "Image 'HFGJGKIGES.jpg' copied to 'D:\\Perception_Project\\Train_100_images\\matched_images_mix_tote_train_100'.\n",
      "Image 'Y99VAV6U1C.jpg' copied to 'D:\\Perception_Project\\Train_100_images\\matched_images_mix_tote_train_100'.\n",
      "Image '046YS46X5L.jpg' copied to 'D:\\Perception_Project\\Train_100_images\\matched_images_mix_tote_train_100'.\n",
      "Image 'MT3MZ05UF2.jpg' copied to 'D:\\Perception_Project\\Train_100_images\\matched_images_mix_tote_train_100'.\n",
      "Image 'F5MDABBBK7.jpg' copied to 'D:\\Perception_Project\\Train_100_images\\matched_images_mix_tote_train_100'.\n",
      "Image '0YY264RCGI.jpg' copied to 'D:\\Perception_Project\\Train_100_images\\matched_images_mix_tote_train_100'.\n",
      "Image 'OE5FLAK45R.jpg' copied to 'D:\\Perception_Project\\Train_100_images\\matched_images_mix_tote_train_100'.\n",
      "Image 'UQ40PXR5R6.jpg' copied to 'D:\\Perception_Project\\Train_100_images\\matched_images_mix_tote_train_100'.\n",
      "Image 'S9TIWDQPLF.jpg' copied to 'D:\\Perception_Project\\Train_100_images\\matched_images_mix_tote_train_100'.\n",
      "Image 'Y2HFRKE7MY.jpg' copied to 'D:\\Perception_Project\\Train_100_images\\matched_images_mix_tote_train_100'.\n",
      "Image 'CRKCG8R6TL.jpg' copied to 'D:\\Perception_Project\\Train_100_images\\matched_images_mix_tote_train_100'.\n",
      "Image 'HX73SJXOM4.jpg' not found in the 'images' folder.\n",
      "Image 'LWR7B050JX.jpg' copied to 'D:\\Perception_Project\\Train_100_images\\matched_images_mix_tote_train_100'.\n"
     ]
    },
    {
     "name": "stdout",
     "output_type": "stream",
     "text": [
      "Image 'U8P6DBD41F.jpg' copied to 'D:\\Perception_Project\\Train_100_images\\matched_images_mix_tote_train_100'.\n",
      "Image 'JX7H0RC8J8.jpg' copied to 'D:\\Perception_Project\\Train_100_images\\matched_images_mix_tote_train_100'.\n",
      "Image 'F7U7KZTBW4.jpg' copied to 'D:\\Perception_Project\\Train_100_images\\matched_images_mix_tote_train_100'.\n",
      "Image '4IXM09HQ82.jpg' copied to 'D:\\Perception_Project\\Train_100_images\\matched_images_mix_tote_train_100'.\n",
      "Image 'TZ3HXOABGU.jpg' copied to 'D:\\Perception_Project\\Train_100_images\\matched_images_mix_tote_train_100'.\n",
      "Image 'I2S2LIU4QB.jpg' copied to 'D:\\Perception_Project\\Train_100_images\\matched_images_mix_tote_train_100'.\n",
      "Image 'EJ1HGA4YFB.jpg' copied to 'D:\\Perception_Project\\Train_100_images\\matched_images_mix_tote_train_100'.\n",
      "Image '9GIUO8CEKG.jpg' copied to 'D:\\Perception_Project\\Train_100_images\\matched_images_mix_tote_train_100'.\n",
      "Image 'SKLPXH3ONH.jpg' copied to 'D:\\Perception_Project\\Train_100_images\\matched_images_mix_tote_train_100'.\n",
      "Image 'VEE9XZKLYK.jpg' copied to 'D:\\Perception_Project\\Train_100_images\\matched_images_mix_tote_train_100'.\n",
      "Image '7CU4C8HU90.jpg' copied to 'D:\\Perception_Project\\Train_100_images\\matched_images_mix_tote_train_100'.\n",
      "Image collection completed.\n"
     ]
    }
   ],
   "source": [
    "import os\n",
    "import shutil\n",
    "import pandas as pd\n",
    "df = pd.read_excel(r'mix_tote_train_100.xlsx')\n",
    "images_folder = 'D:\\Perception_Project\\images'\n",
    "output_folder = 'D:\\Perception_Project\\Train_100_images\\matched_images_mix_tote_train_100'\n",
    "os.makedirs(output_folder, exist_ok=True)\n",
    "for index, row in df.iterrows():\n",
    "    image_name = row['File Name']\n",
    "    source_path = os.path.join(images_folder, image_name)\n",
    "    destination_path = os.path.join(output_folder, image_name)\n",
    "    if os.path.exists(source_path):\n",
    "        shutil.copyfile(source_path, destination_path)\n",
    "        print(f\"Image '{image_name}' copied to '{output_folder}'.\")\n",
    "    else:\n",
    "        print(f\"Image '{image_name}' not found in the 'images' folder.\")\n",
    "print(\"Image collection completed.\")"
   ]
  },
  {
   "cell_type": "code",
   "execution_count": 12,
   "metadata": {
    "ExecuteTime": {
     "end_time": "2024-03-16T19:59:53.709988Z",
     "start_time": "2024-03-16T19:59:53.496418Z"
    },
    "collapsed": true
   },
   "outputs": [
    {
     "name": "stdout",
     "output_type": "stream",
     "text": [
      "Image 'UIRV1VQ17M.jpg' copied to 'D:\\Perception_Project\\Train_100_images\\matched_images_mix_tote_test_30'.\n",
      "Image '8RJ39JDHVV.jpg' copied to 'D:\\Perception_Project\\Train_100_images\\matched_images_mix_tote_test_30'.\n",
      "Image '6VAF2EPGCO.jpg' copied to 'D:\\Perception_Project\\Train_100_images\\matched_images_mix_tote_test_30'.\n",
      "Image 'HAHEANJJ8D.jpg' copied to 'D:\\Perception_Project\\Train_100_images\\matched_images_mix_tote_test_30'.\n",
      "Image 'SGXG2HMHPC.jpg' copied to 'D:\\Perception_Project\\Train_100_images\\matched_images_mix_tote_test_30'.\n",
      "Image 'VAAV45KWXZ.jpg' copied to 'D:\\Perception_Project\\Train_100_images\\matched_images_mix_tote_test_30'.\n",
      "Image 'MTF4A7PCLY.jpg' copied to 'D:\\Perception_Project\\Train_100_images\\matched_images_mix_tote_test_30'.\n",
      "Image 'PD94C126M8.jpg' copied to 'D:\\Perception_Project\\Train_100_images\\matched_images_mix_tote_test_30'.\n",
      "Image 'I0R2XLUJBT.jpg' copied to 'D:\\Perception_Project\\Train_100_images\\matched_images_mix_tote_test_30'.\n",
      "Image '3F1X2E8OXG.jpg' copied to 'D:\\Perception_Project\\Train_100_images\\matched_images_mix_tote_test_30'.\n",
      "Image 'I7FB2W6OQY.jpg' copied to 'D:\\Perception_Project\\Train_100_images\\matched_images_mix_tote_test_30'.\n",
      "Image '3K0RONCFNH.jpg' copied to 'D:\\Perception_Project\\Train_100_images\\matched_images_mix_tote_test_30'.\n",
      "Image 'Y3TJ9UP1Q0.jpg' copied to 'D:\\Perception_Project\\Train_100_images\\matched_images_mix_tote_test_30'.\n",
      "Image 'XOY2I8QLQG.jpg' copied to 'D:\\Perception_Project\\Train_100_images\\matched_images_mix_tote_test_30'.\n",
      "Image '59Q225U8EY.jpg' copied to 'D:\\Perception_Project\\Train_100_images\\matched_images_mix_tote_test_30'.\n",
      "Image 'Q8WGV9ABIU.jpg' copied to 'D:\\Perception_Project\\Train_100_images\\matched_images_mix_tote_test_30'.\n",
      "Image '2KH18WM80X.jpg' copied to 'D:\\Perception_Project\\Train_100_images\\matched_images_mix_tote_test_30'.\n",
      "Image 'L66IOFER61.jpg' copied to 'D:\\Perception_Project\\Train_100_images\\matched_images_mix_tote_test_30'.\n",
      "Image 'OAR1KXNIME.jpg' copied to 'D:\\Perception_Project\\Train_100_images\\matched_images_mix_tote_test_30'.\n",
      "Image 'QJLPMIN95C.jpg' copied to 'D:\\Perception_Project\\Train_100_images\\matched_images_mix_tote_test_30'.\n",
      "Image 'DJ2ZU0A2JQ.jpg' copied to 'D:\\Perception_Project\\Train_100_images\\matched_images_mix_tote_test_30'.\n",
      "Image 'HLCG21Z278.jpg' copied to 'D:\\Perception_Project\\Train_100_images\\matched_images_mix_tote_test_30'.\n",
      "Image 'RELG6DOLM7.jpg' copied to 'D:\\Perception_Project\\Train_100_images\\matched_images_mix_tote_test_30'.\n",
      "Image '20WDZI8DK3.jpg' copied to 'D:\\Perception_Project\\Train_100_images\\matched_images_mix_tote_test_30'.\n",
      "Image '5XU2FDDV46.jpg' copied to 'D:\\Perception_Project\\Train_100_images\\matched_images_mix_tote_test_30'.\n",
      "Image 'X8O88WZ1C9.jpg' copied to 'D:\\Perception_Project\\Train_100_images\\matched_images_mix_tote_test_30'.\n",
      "Image 'XP89AFCG7J.jpg' copied to 'D:\\Perception_Project\\Train_100_images\\matched_images_mix_tote_test_30'.\n",
      "Image 'AT7656MP7H.jpg' copied to 'D:\\Perception_Project\\Train_100_images\\matched_images_mix_tote_test_30'.\n",
      "Image '3OK3CYWVXB.jpg' copied to 'D:\\Perception_Project\\Train_100_images\\matched_images_mix_tote_test_30'.\n",
      "Image 'P85UXJ1KBS.jpg' copied to 'D:\\Perception_Project\\Train_100_images\\matched_images_mix_tote_test_30'.\n",
      "Image collection completed.\n"
     ]
    }
   ],
   "source": [
    "import os\n",
    "import shutil\n",
    "import pandas as pd\n",
    "df = pd.read_excel(r'mix_tote_test_30.xlsx')\n",
    "images_folder = 'D:\\Perception_Project\\images'\n",
    "output_folder = 'D:\\Perception_Project\\Train_100_images\\matched_images_mix_tote_test_30'\n",
    "os.makedirs(output_folder, exist_ok=True)\n",
    "for index, row in df.iterrows():\n",
    "    image_name = row['File Name']\n",
    "    source_path = os.path.join(images_folder, image_name)\n",
    "    destination_path = os.path.join(output_folder, image_name)\n",
    "    if os.path.exists(source_path):\n",
    "        shutil.copyfile(source_path, destination_path)\n",
    "        print(f\"Image '{image_name}' copied to '{output_folder}'.\")\n",
    "    else:\n",
    "        print(f\"Image '{image_name}' not found in the 'images' folder.\")\n",
    "print(\"Image collection completed.\")"
   ]
  },
  {
   "cell_type": "code",
   "execution_count": 13,
   "metadata": {
    "ExecuteTime": {
     "end_time": "2024-03-16T20:00:46.206592Z",
     "start_time": "2024-03-16T20:00:45.967693Z"
    },
    "collapsed": true
   },
   "outputs": [
    {
     "name": "stdout",
     "output_type": "stream",
     "text": [
      "Image '4CROKS0MKE.jpg' copied to 'D:\\Perception_Project\\Train_100_images\\matched_images_same_obj_test_30'.\n",
      "Image '8M0V5N05F0.jpg' copied to 'D:\\Perception_Project\\Train_100_images\\matched_images_same_obj_test_30'.\n",
      "Image 'LEFTUCPEDV.jpg' copied to 'D:\\Perception_Project\\Train_100_images\\matched_images_same_obj_test_30'.\n",
      "Image 'J8JR3ZFQ5L.jpg' copied to 'D:\\Perception_Project\\Train_100_images\\matched_images_same_obj_test_30'.\n",
      "Image '4AYGRNDMQF.jpg' copied to 'D:\\Perception_Project\\Train_100_images\\matched_images_same_obj_test_30'.\n",
      "Image 'AGXIOZ4OMU.jpg' copied to 'D:\\Perception_Project\\Train_100_images\\matched_images_same_obj_test_30'.\n",
      "Image 'KJEKCVOZ33.jpg' copied to 'D:\\Perception_Project\\Train_100_images\\matched_images_same_obj_test_30'.\n",
      "Image 'IIR9EUWK4V.jpg' copied to 'D:\\Perception_Project\\Train_100_images\\matched_images_same_obj_test_30'.\n",
      "Image 'GWL345XC2W.jpg' copied to 'D:\\Perception_Project\\Train_100_images\\matched_images_same_obj_test_30'.\n",
      "Image 'O5EXB2KC2R.jpg' copied to 'D:\\Perception_Project\\Train_100_images\\matched_images_same_obj_test_30'.\n",
      "Image '1ACBCA2X1L.jpg' copied to 'D:\\Perception_Project\\Train_100_images\\matched_images_same_obj_test_30'.\n",
      "Image '0RVLJ1AU10.jpg' copied to 'D:\\Perception_Project\\Train_100_images\\matched_images_same_obj_test_30'.\n",
      "Image 'SQOIB5ZZGH.jpg' copied to 'D:\\Perception_Project\\Train_100_images\\matched_images_same_obj_test_30'.\n",
      "Image 'XIWKVWESBZ.jpg' copied to 'D:\\Perception_Project\\Train_100_images\\matched_images_same_obj_test_30'.\n",
      "Image 'E83HLFVWZU.jpg' copied to 'D:\\Perception_Project\\Train_100_images\\matched_images_same_obj_test_30'.\n",
      "Image 'CYBC4V66R0.jpg' copied to 'D:\\Perception_Project\\Train_100_images\\matched_images_same_obj_test_30'.\n",
      "Image 'U66Z23KW53.jpg' copied to 'D:\\Perception_Project\\Train_100_images\\matched_images_same_obj_test_30'.\n",
      "Image '1ONWKKK7KI.jpg' copied to 'D:\\Perception_Project\\Train_100_images\\matched_images_same_obj_test_30'.\n",
      "Image 'NPT5DN0962.jpg' copied to 'D:\\Perception_Project\\Train_100_images\\matched_images_same_obj_test_30'.\n",
      "Image 'SBT3P1PLGW.jpg' copied to 'D:\\Perception_Project\\Train_100_images\\matched_images_same_obj_test_30'.\n",
      "Image 'TZD8JNJ3UM.jpg' copied to 'D:\\Perception_Project\\Train_100_images\\matched_images_same_obj_test_30'.\n",
      "Image '8ZI76DLX82.jpg' copied to 'D:\\Perception_Project\\Train_100_images\\matched_images_same_obj_test_30'.\n",
      "Image 'SC22P6Z80U.jpg' copied to 'D:\\Perception_Project\\Train_100_images\\matched_images_same_obj_test_30'.\n",
      "Image 'A9VYH77UCT.jpg' copied to 'D:\\Perception_Project\\Train_100_images\\matched_images_same_obj_test_30'.\n",
      "Image '2SBI90HD7P.jpg' copied to 'D:\\Perception_Project\\Train_100_images\\matched_images_same_obj_test_30'.\n",
      "Image '8CC0T1W0DT.jpg' copied to 'D:\\Perception_Project\\Train_100_images\\matched_images_same_obj_test_30'.\n",
      "Image '7K4OMLO544.jpg' copied to 'D:\\Perception_Project\\Train_100_images\\matched_images_same_obj_test_30'.\n",
      "Image '2P28H8AO2U.jpg' copied to 'D:\\Perception_Project\\Train_100_images\\matched_images_same_obj_test_30'.\n",
      "Image 'LVOTWRPUPX.jpg' copied to 'D:\\Perception_Project\\Train_100_images\\matched_images_same_obj_test_30'.\n",
      "Image '2PCP800BGE.jpg' copied to 'D:\\Perception_Project\\Train_100_images\\matched_images_same_obj_test_30'.\n",
      "Image collection completed.\n"
     ]
    }
   ],
   "source": [
    "import os\n",
    "import shutil\n",
    "import pandas as pd\n",
    "df = pd.read_excel(r'same_obj_test_30.xlsx')\n",
    "images_folder = 'D:\\Perception_Project\\images'\n",
    "output_folder = 'D:\\Perception_Project\\Train_100_images\\matched_images_same_obj_test_30'\n",
    "os.makedirs(output_folder, exist_ok=True)\n",
    "for index, row in df.iterrows():\n",
    "    image_name = row['File Name']\n",
    "    source_path = os.path.join(images_folder, image_name)\n",
    "    destination_path = os.path.join(output_folder, image_name)\n",
    "    if os.path.exists(source_path):\n",
    "        shutil.copyfile(source_path, destination_path)\n",
    "        print(f\"Image '{image_name}' copied to '{output_folder}'.\")\n",
    "    else:\n",
    "        print(f\"Image '{image_name}' not found in the 'images' folder.\")\n",
    "print(\"Image collection completed.\")"
   ]
  },
  {
   "cell_type": "code",
   "execution_count": 14,
   "metadata": {
    "ExecuteTime": {
     "end_time": "2024-03-16T20:01:33.526766Z",
     "start_time": "2024-03-16T20:01:33.333459Z"
    },
    "collapsed": true
   },
   "outputs": [
    {
     "name": "stdout",
     "output_type": "stream",
     "text": [
      "Image 'WWE2OUNJG5.jpg' copied to 'D:\\Perception_Project\\Train_100_images\\matched_images_zoom_out_test_30'.\n",
      "Image '4EK60UG47Z.jpg' copied to 'D:\\Perception_Project\\Train_100_images\\matched_images_zoom_out_test_30'.\n",
      "Image 'KJ4BZVP54Q.jpg' copied to 'D:\\Perception_Project\\Train_100_images\\matched_images_zoom_out_test_30'.\n",
      "Image '64RLUEJO66.jpg' copied to 'D:\\Perception_Project\\Train_100_images\\matched_images_zoom_out_test_30'.\n",
      "Image '98PNNDIV9I.jpg' copied to 'D:\\Perception_Project\\Train_100_images\\matched_images_zoom_out_test_30'.\n",
      "Image 'WZ869ATT5Z.jpg' copied to 'D:\\Perception_Project\\Train_100_images\\matched_images_zoom_out_test_30'.\n",
      "Image 'D8VLOZXH8O.jpg' copied to 'D:\\Perception_Project\\Train_100_images\\matched_images_zoom_out_test_30'.\n",
      "Image 'MMY2QVBIK0.jpg' copied to 'D:\\Perception_Project\\Train_100_images\\matched_images_zoom_out_test_30'.\n",
      "Image '9KYILGEGQD.jpg' copied to 'D:\\Perception_Project\\Train_100_images\\matched_images_zoom_out_test_30'.\n",
      "Image 'GNZOUSTV28.jpg' copied to 'D:\\Perception_Project\\Train_100_images\\matched_images_zoom_out_test_30'.\n",
      "Image 'XQYQ5Y44O4.jpg' copied to 'D:\\Perception_Project\\Train_100_images\\matched_images_zoom_out_test_30'.\n",
      "Image 'ICEBUF6801.jpg' copied to 'D:\\Perception_Project\\Train_100_images\\matched_images_zoom_out_test_30'.\n",
      "Image 'AWWFVL3T6Z.jpg' copied to 'D:\\Perception_Project\\Train_100_images\\matched_images_zoom_out_test_30'.\n",
      "Image 'MVLG4W3BKO.jpg' copied to 'D:\\Perception_Project\\Train_100_images\\matched_images_zoom_out_test_30'.\n",
      "Image 'VTTX2XZ7L4.jpg' copied to 'D:\\Perception_Project\\Train_100_images\\matched_images_zoom_out_test_30'.\n",
      "Image 'CY54A40J37.jpg' copied to 'D:\\Perception_Project\\Train_100_images\\matched_images_zoom_out_test_30'.\n",
      "Image 'SYENZ651CK.jpg' copied to 'D:\\Perception_Project\\Train_100_images\\matched_images_zoom_out_test_30'.\n",
      "Image 'U0YTYHYMYI.jpg' copied to 'D:\\Perception_Project\\Train_100_images\\matched_images_zoom_out_test_30'.\n",
      "Image 'ENDU5TPOVP.jpg' copied to 'D:\\Perception_Project\\Train_100_images\\matched_images_zoom_out_test_30'.\n",
      "Image 'JSTOR115VN.jpg' copied to 'D:\\Perception_Project\\Train_100_images\\matched_images_zoom_out_test_30'.\n",
      "Image '3KHFKME5I9.jpg' copied to 'D:\\Perception_Project\\Train_100_images\\matched_images_zoom_out_test_30'.\n",
      "Image 'YA263QC4SR.jpg' copied to 'D:\\Perception_Project\\Train_100_images\\matched_images_zoom_out_test_30'.\n",
      "Image 'TWS9CZHQV7.jpg' copied to 'D:\\Perception_Project\\Train_100_images\\matched_images_zoom_out_test_30'.\n",
      "Image 'T8C2CKDR79.jpg' copied to 'D:\\Perception_Project\\Train_100_images\\matched_images_zoom_out_test_30'.\n",
      "Image '8TNN1IPJ2T.jpg' copied to 'D:\\Perception_Project\\Train_100_images\\matched_images_zoom_out_test_30'.\n",
      "Image 'IMJSOAQ9CM.jpg' copied to 'D:\\Perception_Project\\Train_100_images\\matched_images_zoom_out_test_30'.\n",
      "Image 'DIBF7C6HIR.jpg' copied to 'D:\\Perception_Project\\Train_100_images\\matched_images_zoom_out_test_30'.\n",
      "Image 'OJHS0QY04M.jpg' copied to 'D:\\Perception_Project\\Train_100_images\\matched_images_zoom_out_test_30'.\n",
      "Image 'N8EGKXLJIC.jpg' copied to 'D:\\Perception_Project\\Train_100_images\\matched_images_zoom_out_test_30'.\n",
      "Image '9UZSB4NV9F.jpg' copied to 'D:\\Perception_Project\\Train_100_images\\matched_images_zoom_out_test_30'.\n",
      "Image collection completed.\n"
     ]
    }
   ],
   "source": [
    "import os\n",
    "import shutil\n",
    "import pandas as pd\n",
    "df = pd.read_excel(r'zoomed_out_test_30.xlsx')\n",
    "images_folder = 'D:\\Perception_Project\\images'\n",
    "output_folder = 'D:\\Perception_Project\\Train_100_images\\matched_images_zoom_out_test_30'\n",
    "os.makedirs(output_folder, exist_ok=True)\n",
    "for index, row in df.iterrows():\n",
    "    image_name = row['File Name']\n",
    "    source_path = os.path.join(images_folder, image_name)\n",
    "    destination_path = os.path.join(output_folder, image_name)\n",
    "    if os.path.exists(source_path):\n",
    "        shutil.copyfile(source_path, destination_path)\n",
    "        print(f\"Image '{image_name}' copied to '{output_folder}'.\")\n",
    "    else:\n",
    "        print(f\"Image '{image_name}' not found in the 'images' folder.\")\n",
    "print(\"Image collection completed.\")"
   ]
  },
  {
   "cell_type": "code",
   "execution_count": null,
   "metadata": {},
   "outputs": [],
   "source": []
  }
 ],
 "metadata": {
  "hide_input": false,
  "kernelspec": {
   "display_name": "Python 3",
   "language": "python",
   "name": "python3"
  },
  "language_info": {
   "codemirror_mode": {
    "name": "ipython",
    "version": 3
   },
   "file_extension": ".py",
   "mimetype": "text/x-python",
   "name": "python",
   "nbconvert_exporter": "python",
   "pygments_lexer": "ipython3",
   "version": "3.7.3"
  },
  "toc": {
   "base_numbering": 1,
   "nav_menu": {},
   "number_sections": true,
   "sideBar": true,
   "skip_h1_title": false,
   "title_cell": "Table of Contents",
   "title_sidebar": "Contents",
   "toc_cell": false,
   "toc_position": {},
   "toc_section_display": true,
   "toc_window_display": false
  },
  "varInspector": {
   "cols": {
    "lenName": 16,
    "lenType": 16,
    "lenVar": 40
   },
   "kernels_config": {
    "python": {
     "delete_cmd_postfix": "",
     "delete_cmd_prefix": "del ",
     "library": "var_list.py",
     "varRefreshCmd": "print(var_dic_list())"
    },
    "r": {
     "delete_cmd_postfix": ") ",
     "delete_cmd_prefix": "rm(",
     "library": "var_list.r",
     "varRefreshCmd": "cat(var_dic_list()) "
    }
   },
   "types_to_exclude": [
    "module",
    "function",
    "builtin_function_or_method",
    "instance",
    "_Feature"
   ],
   "window_display": false
  }
 },
 "nbformat": 4,
 "nbformat_minor": 2
}
